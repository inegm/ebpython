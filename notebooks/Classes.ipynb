{
 "metadata": {
  "name": "",
  "signature": "sha256:fd154330e32d012a0d1d7cd39710dc0b1e261453287c4ce417e423b04ccc53f1"
 },
 "nbformat": 3,
 "nbformat_minor": 0,
 "worksheets": [
  {
   "cells": [
    {
     "cell_type": "code",
     "collapsed": false,
     "input": [
      "import random\n",
      "import math"
     ],
     "language": "python",
     "metadata": {},
     "outputs": [],
     "prompt_number": 1
    },
    {
     "cell_type": "code",
     "collapsed": false,
     "input": [
      "def move(self, x, y):\n",
      "    '''\n",
      "    Will move the Mover (self) from wherever it is to another place\n",
      "    Pythagoras can tell you about.\n",
      "\n",
      "    Parameters\n",
      "    ----------\n",
      "    x: int, units of motion on the x axys\n",
      "    y: int, units of motion on the y axys\n",
      "    \n",
      "    Returns\n",
      "    -------\n",
      "    distance: int, Distance moved (rounded and coerced to an int)\n",
      "    '''\n",
      "    self.x += x\n",
      "    self.y += y\n",
      "    \n",
      "    distance = int(round(math.sqrt(x**2 + y**2)))\n",
      "    return distance"
     ],
     "language": "python",
     "metadata": {},
     "outputs": [],
     "prompt_number": 2
    },
    {
     "cell_type": "code",
     "collapsed": false,
     "input": [
      "def __init__(self, x=0, y=0, randomize=True):\n",
      "    '''\n",
      "    Sets the Mover's (self) starting position either explicitly or\n",
      "    randomly.\n",
      "    '''\n",
      "    self.x = random.randint(-50, 50) if randomize else x\n",
      "    self.y = random.randint(-50, 50) if randomize else y"
     ],
     "language": "python",
     "metadata": {},
     "outputs": [],
     "prompt_number": 3
    },
    {
     "cell_type": "code",
     "collapsed": false,
     "input": [
      "type(42)"
     ],
     "language": "python",
     "metadata": {},
     "outputs": [
      {
       "metadata": {},
       "output_type": "pyout",
       "prompt_number": 4,
       "text": [
        "int"
       ]
      }
     ],
     "prompt_number": 4
    },
    {
     "cell_type": "code",
     "collapsed": false,
     "input": [
      "# help(type)"
     ],
     "language": "python",
     "metadata": {},
     "outputs": [],
     "prompt_number": 20
    },
    {
     "cell_type": "code",
     "collapsed": false,
     "input": [
      "Mover = type('Mover', (object, ), {'__init__': __init__, 'move': move})"
     ],
     "language": "python",
     "metadata": {},
     "outputs": [],
     "prompt_number": 6
    },
    {
     "cell_type": "code",
     "collapsed": false,
     "input": [
      "amover = Mover()\n",
      "print amover"
     ],
     "language": "python",
     "metadata": {},
     "outputs": [
      {
       "output_type": "stream",
       "stream": "stdout",
       "text": [
        "<__main__.Mover object at 0x10ccbf850>\n"
       ]
      }
     ],
     "prompt_number": 9
    },
    {
     "cell_type": "code",
     "collapsed": false,
     "input": [
      "bmover = Mover()\n",
      "print bmover"
     ],
     "language": "python",
     "metadata": {},
     "outputs": [
      {
       "output_type": "stream",
       "stream": "stdout",
       "text": [
        "<__main__.Mover object at 0x10ccbff10>\n"
       ]
      }
     ],
     "prompt_number": 17
    },
    {
     "cell_type": "code",
     "collapsed": false,
     "input": [
      "print amover == bmover"
     ],
     "language": "python",
     "metadata": {},
     "outputs": [
      {
       "output_type": "stream",
       "stream": "stdout",
       "text": [
        "False\n"
       ]
      }
     ],
     "prompt_number": 18
    },
    {
     "cell_type": "code",
     "collapsed": false,
     "input": [
      "print amover.__dict__\n",
      "print bmover.__dict__"
     ],
     "language": "python",
     "metadata": {},
     "outputs": [
      {
       "output_type": "stream",
       "stream": "stdout",
       "text": [
        "{'y': -12, 'x': 36}\n",
        "{'y': 16, 'x': -50}\n"
       ]
      }
     ],
     "prompt_number": 19
    },
    {
     "cell_type": "code",
     "collapsed": false,
     "input": [
      "cmover = Mover(randomize=False, **amover.__dict__)\n",
      "print cmover.__dict__"
     ],
     "language": "python",
     "metadata": {},
     "outputs": [
      {
       "output_type": "stream",
       "stream": "stdout",
       "text": [
        "{'y': -12, 'x': 36}\n"
       ]
      }
     ],
     "prompt_number": 21
    },
    {
     "cell_type": "code",
     "collapsed": false,
     "input": [
      "print amover == cmover"
     ],
     "language": "python",
     "metadata": {},
     "outputs": [
      {
       "output_type": "stream",
       "stream": "stdout",
       "text": [
        "False\n"
       ]
      }
     ],
     "prompt_number": 24
    },
    {
     "cell_type": "code",
     "collapsed": false,
     "input": [
      "amover.x"
     ],
     "language": "python",
     "metadata": {},
     "outputs": [
      {
       "metadata": {},
       "output_type": "pyout",
       "prompt_number": 30,
       "text": [
        "36"
       ]
      }
     ],
     "prompt_number": 30
    },
    {
     "cell_type": "code",
     "collapsed": false,
     "input": [
      "print bmover.__dict__\n",
      "distance = bmover.move(5, -5)\n",
      "print bmover.__dict__\n",
      "print distance"
     ],
     "language": "python",
     "metadata": {},
     "outputs": [
      {
       "output_type": "stream",
       "stream": "stdout",
       "text": [
        "{'y': 6, 'x': -40}\n",
        "{'y': 1, 'x': -35}\n",
        "7\n"
       ]
      }
     ],
     "prompt_number": 32
    },
    {
     "cell_type": "markdown",
     "metadata": {},
     "source": [
      "### A better way to define classes"
     ]
    },
    {
     "cell_type": "code",
     "collapsed": false,
     "input": [
      "class Eater(object):\n",
      "    '''\n",
      "    Eats to accumulate energy. It might starve if too much energy\n",
      "    '''\n",
      "    def __init__(self, energy=100, randomize=True):\n",
      "        self.energy = random.randint(75, 125) if randomize else energy\n",
      "        self.starved = False\n",
      "\n",
      "    def __repr__(self):\n",
      "        p = 'This eater has {0} energy, '.format(self.energy)\n",
      "        if self.starved:\n",
      "            p += 'it is well starved and useless.'\n",
      "        else:\n",
      "            p += 'it\\'s still kicking!'\n",
      "        return p\n",
      "\n",
      "    def eat(self, energy):\n",
      "        if energy <=0:\n",
      "            print 'That was useless...'\n",
      "            return\n",
      "        if self.starved:\n",
      "            print 'This one has starved.'\n",
      "            return\n",
      "        self.energy += energy\n",
      "        print 'Eating! Mmmm, tasty.'\n",
      "\n",
      "    def metabolise(self, energy):\n",
      "        self.energy -= energy\n",
      "        if self.energy <= 0:\n",
      "            self.starve()\n",
      "        if self.starved:\n",
      "            print 'This one has starved...'\n",
      "            return\n",
      "\n",
      "    def starve(self):\n",
      "        self.starved = True"
     ],
     "language": "python",
     "metadata": {},
     "outputs": [],
     "prompt_number": 37
    },
    {
     "cell_type": "code",
     "collapsed": false,
     "input": [
      "eater = Eater()\n",
      "print eater\n",
      "eater.eat(-10)\n",
      "eater.metabolise(150)"
     ],
     "language": "python",
     "metadata": {},
     "outputs": [
      {
       "output_type": "stream",
       "stream": "stdout",
       "text": [
        "This eater has 124 energy, it's still kicking!\n",
        "That was useless...\n",
        "This one has starved...\n"
       ]
      }
     ],
     "prompt_number": 38
    },
    {
     "cell_type": "markdown",
     "metadata": {},
     "source": [
      "### An exercise\n",
      "\n",
      "Redefine the Mover class the better way and give it a better printed representation."
     ]
    },
    {
     "cell_type": "markdown",
     "metadata": {},
     "source": [
      "### Inheritance"
     ]
    },
    {
     "cell_type": "code",
     "collapsed": false,
     "input": [
      "class Flatlander(Mover, Eater):\n",
      "    '''\n",
      "    A citizen of Flatland that can move and eat (and starve!).\n",
      "    '''\n",
      "    def __init__(self, name, metabolism=1, *args, **kwargs):\n",
      "        Mover.__init__(self, *args, **kwargs)\n",
      "        Eater.__init__(self, *args, **kwargs)\n",
      "        self.name = name\n",
      "        self.metabolism = metabolism\n",
      "    \n",
      "    def __repr__(self):\n",
      "        p = 'I am {} !\\n'.format(self.name.capitalize())\n",
      "        p += 'I have {0} energy, which I metabolise at a rate of {1} per unit moved.\\n'.format(self.energy, self.metabolism)\n",
      "        p += 'I am at Flatland coordinates x:{0} by y:{1}.'.format(self.x, self.y)\n",
      "        return p\n",
      "    \n",
      "    def speak(self):\n",
      "        print 'Hi! My name is {} :)'.format(self.name.capitalize())\n",
      "    \n",
      "    def move(self, *args, **kwargs):\n",
      "        distance = Mover.move(self, *args, **kwargs)\n",
      "        cost = distance * self.metabolism\n",
      "        self.metabolise(cost)\n",
      "        print '{0} has moved {1} units and metabolised {2} energy points.'.format(self.name.capitalize(), distance, cost)\n",
      "        "
     ],
     "language": "python",
     "metadata": {},
     "outputs": []
    },
    {
     "cell_type": "code",
     "collapsed": false,
     "input": [
      "flatman = Flatlander('hieronymus')\n",
      "print flatman"
     ],
     "language": "python",
     "metadata": {},
     "outputs": []
    },
    {
     "cell_type": "code",
     "collapsed": false,
     "input": [
      "flatman.speak()"
     ],
     "language": "python",
     "metadata": {},
     "outputs": []
    },
    {
     "cell_type": "code",
     "collapsed": false,
     "input": [
      "flatman.eat(20)\n",
      "print flatman"
     ],
     "language": "python",
     "metadata": {},
     "outputs": []
    },
    {
     "cell_type": "code",
     "collapsed": false,
     "input": [
      "flatman.move(10, 10)\n",
      "print flatman"
     ],
     "language": "python",
     "metadata": {},
     "outputs": []
    },
    {
     "cell_type": "markdown",
     "metadata": {},
     "source": [
      "### You can set attributes directly..."
     ]
    },
    {
     "cell_type": "code",
     "collapsed": false,
     "input": [
      "flatman.energy = 10\n",
      "print flatman"
     ],
     "language": "python",
     "metadata": {},
     "outputs": []
    },
    {
     "cell_type": "markdown",
     "metadata": {},
     "source": [
      "### But I'd rather you added a method.\n",
      "\n",
      "Add a set_energy method to... well, you tell me."
     ]
    },
    {
     "cell_type": "code",
     "collapsed": false,
     "input": [],
     "language": "python",
     "metadata": {},
     "outputs": []
    }
   ],
   "metadata": {}
  }
 ]
}