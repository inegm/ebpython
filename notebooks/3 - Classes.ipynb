{
 "cells": [
  {
   "cell_type": "code",
   "execution_count": 1,
   "metadata": {},
   "outputs": [],
   "source": [
    "import random\n",
    "import math"
   ]
  },
  {
   "cell_type": "code",
   "execution_count": 2,
   "metadata": {},
   "outputs": [],
   "source": [
    "def move(self, x, y):\n",
    "    '''\n",
    "    Will move the Mover (self) from wherever it is to another place\n",
    "    Pythagoras can tell you about.\n",
    "\n",
    "    Parameters\n",
    "    ----------\n",
    "    x: int, units of motion on the x axys\n",
    "    y: int, units of motion on the y axys\n",
    "    \n",
    "    Returns\n",
    "    -------\n",
    "    distance: int, Distance moved (rounded and coerced to an int)\n",
    "    '''\n",
    "    self.x += x\n",
    "    self.y += y\n",
    "    \n",
    "    distance = int(round(math.sqrt(x**2 + y**2)))\n",
    "    return distance"
   ]
  },
  {
   "cell_type": "code",
   "execution_count": 3,
   "metadata": {},
   "outputs": [],
   "source": [
    "def __init__(self, x=0, y=0, randomize=True):\n",
    "    '''\n",
    "    Sets the Mover's (self) starting position either explicitly or\n",
    "    randomly.\n",
    "    '''\n",
    "    self.x = random.randint(-50, 50) if randomize else x\n",
    "    self.y = random.randint(-50, 50) if randomize else y"
   ]
  },
  {
   "cell_type": "code",
   "execution_count": 4,
   "metadata": {},
   "outputs": [
    {
     "data": {
      "text/plain": [
       "int"
      ]
     },
     "execution_count": 4,
     "metadata": {},
     "output_type": "execute_result"
    }
   ],
   "source": [
    "type(42)"
   ]
  },
  {
   "cell_type": "code",
   "execution_count": 5,
   "metadata": {
    "scrolled": true
   },
   "outputs": [
    {
     "name": "stdout",
     "output_type": "stream",
     "text": [
      "Help on class type in module builtins:\n",
      "\n",
      "class type(object)\n",
      " |  type(object_or_name, bases, dict)\n",
      " |  type(object) -> the object's type\n",
      " |  type(name, bases, dict) -> a new type\n",
      " |  \n",
      " |  Methods defined here:\n",
      " |  \n",
      " |  __call__(self, /, *args, **kwargs)\n",
      " |      Call self as a function.\n",
      " |  \n",
      " |  __delattr__(self, name, /)\n",
      " |      Implement delattr(self, name).\n",
      " |  \n",
      " |  __dir__(...)\n",
      " |      __dir__() -> list\n",
      " |      specialized __dir__ implementation for types\n",
      " |  \n",
      " |  __getattribute__(self, name, /)\n",
      " |      Return getattr(self, name).\n",
      " |  \n",
      " |  __init__(self, /, *args, **kwargs)\n",
      " |      Initialize self.  See help(type(self)) for accurate signature.\n",
      " |  \n",
      " |  __instancecheck__(...)\n",
      " |      __instancecheck__() -> bool\n",
      " |      check if an object is an instance\n",
      " |  \n",
      " |  __new__(*args, **kwargs)\n",
      " |      Create and return a new object.  See help(type) for accurate signature.\n",
      " |  \n",
      " |  __prepare__(...)\n",
      " |      __prepare__() -> dict\n",
      " |      used to create the namespace for the class statement\n",
      " |  \n",
      " |  __repr__(self, /)\n",
      " |      Return repr(self).\n",
      " |  \n",
      " |  __setattr__(self, name, value, /)\n",
      " |      Implement setattr(self, name, value).\n",
      " |  \n",
      " |  __sizeof__(...)\n",
      " |      __sizeof__() -> int\n",
      " |      return memory consumption of the type object\n",
      " |  \n",
      " |  __subclasscheck__(...)\n",
      " |      __subclasscheck__() -> bool\n",
      " |      check if a class is a subclass\n",
      " |  \n",
      " |  __subclasses__(...)\n",
      " |      __subclasses__() -> list of immediate subclasses\n",
      " |  \n",
      " |  mro(...)\n",
      " |      mro() -> list\n",
      " |      return a type's method resolution order\n",
      " |  \n",
      " |  ----------------------------------------------------------------------\n",
      " |  Data descriptors defined here:\n",
      " |  \n",
      " |  __abstractmethods__\n",
      " |  \n",
      " |  __dict__\n",
      " |  \n",
      " |  __text_signature__\n",
      " |  \n",
      " |  ----------------------------------------------------------------------\n",
      " |  Data and other attributes defined here:\n",
      " |  \n",
      " |  __base__ = <class 'object'>\n",
      " |      The most base type\n",
      " |  \n",
      " |  __bases__ = (<class 'object'>,)\n",
      " |  \n",
      " |  __basicsize__ = 864\n",
      " |  \n",
      " |  __dictoffset__ = 264\n",
      " |  \n",
      " |  __flags__ = 2148291584\n",
      " |  \n",
      " |  __itemsize__ = 40\n",
      " |  \n",
      " |  __mro__ = (<class 'type'>, <class 'object'>)\n",
      " |  \n",
      " |  __weakrefoffset__ = 368\n",
      "\n"
     ]
    }
   ],
   "source": [
    "help(type)"
   ]
  },
  {
   "cell_type": "code",
   "execution_count": 6,
   "metadata": {},
   "outputs": [],
   "source": [
    "Mover = type('Mover', (object, ), {'__init__': __init__, 'move': move})"
   ]
  },
  {
   "cell_type": "code",
   "execution_count": 7,
   "metadata": {},
   "outputs": [
    {
     "name": "stdout",
     "output_type": "stream",
     "text": [
      "<__main__.Mover object at 0x1069831d0>\n"
     ]
    }
   ],
   "source": [
    "amover = Mover()\n",
    "print(amover)"
   ]
  },
  {
   "cell_type": "code",
   "execution_count": 8,
   "metadata": {},
   "outputs": [
    {
     "name": "stdout",
     "output_type": "stream",
     "text": [
      "<__main__.Mover object at 0x106cd3320>\n"
     ]
    }
   ],
   "source": [
    "bmover = Mover()\n",
    "print(bmover)"
   ]
  },
  {
   "cell_type": "code",
   "execution_count": 9,
   "metadata": {},
   "outputs": [
    {
     "name": "stdout",
     "output_type": "stream",
     "text": [
      "False\n"
     ]
    }
   ],
   "source": [
    "print(amover == bmover)"
   ]
  },
  {
   "cell_type": "code",
   "execution_count": 10,
   "metadata": {},
   "outputs": [
    {
     "name": "stdout",
     "output_type": "stream",
     "text": [
      "{'x': 43, 'y': 8}\n",
      "{'x': -16, 'y': -41}\n"
     ]
    }
   ],
   "source": [
    "print(amover.__dict__)\n",
    "print(bmover.__dict__)"
   ]
  },
  {
   "cell_type": "code",
   "execution_count": 11,
   "metadata": {},
   "outputs": [
    {
     "name": "stdout",
     "output_type": "stream",
     "text": [
      "{'x': 43, 'y': 8}\n"
     ]
    }
   ],
   "source": [
    "cmover = Mover(randomize=False, **amover.__dict__)\n",
    "print(cmover.__dict__)"
   ]
  },
  {
   "cell_type": "code",
   "execution_count": 12,
   "metadata": {},
   "outputs": [
    {
     "name": "stdout",
     "output_type": "stream",
     "text": [
      "False\n"
     ]
    }
   ],
   "source": [
    "print(amover == cmover)"
   ]
  },
  {
   "cell_type": "code",
   "execution_count": 13,
   "metadata": {},
   "outputs": [
    {
     "data": {
      "text/plain": [
       "43"
      ]
     },
     "execution_count": 13,
     "metadata": {},
     "output_type": "execute_result"
    }
   ],
   "source": [
    "amover.x"
   ]
  },
  {
   "cell_type": "code",
   "execution_count": 14,
   "metadata": {},
   "outputs": [
    {
     "name": "stdout",
     "output_type": "stream",
     "text": [
      "{'x': -16, 'y': -41}\n",
      "{'x': -11, 'y': -46}\n",
      "7\n"
     ]
    }
   ],
   "source": [
    "print(bmover.__dict__)\n",
    "distance = bmover.move(5, -5)\n",
    "print(bmover.__dict__)\n",
    "print(distance)"
   ]
  },
  {
   "cell_type": "markdown",
   "metadata": {},
   "source": [
    "### A better way to define classes"
   ]
  },
  {
   "cell_type": "code",
   "execution_count": 16,
   "metadata": {},
   "outputs": [],
   "source": [
    "class Eater(object):\n",
    "    '''Eats to accumulate energy. It might starve if it runs out of energy'''\n",
    "    def __init__(self, energy=100, randomize=True):\n",
    "        self.energy = random.randint(75, 125) if randomize else energy\n",
    "        self.starved = False\n",
    "\n",
    "    def __repr__(self):\n",
    "        p = 'This eater has {0} energy, '.format(self.energy)\n",
    "        if self.starved:\n",
    "            p += 'it is well starved and useless.'\n",
    "        else:\n",
    "            p += 'it\\'s still kicking!'\n",
    "        return p\n",
    "\n",
    "    def eat(self, energy):\n",
    "        if energy <=0:\n",
    "            print('That was useless...')\n",
    "            return\n",
    "        if self.starved:\n",
    "            print('This one has starved.')\n",
    "            return\n",
    "        self.energy += energy\n",
    "        print('Eating! Mmmm, tasty.')\n",
    "\n",
    "    def metabolise(self, energy):\n",
    "        self.energy -= energy\n",
    "        if self.energy <= 0:\n",
    "            self.starve()\n",
    "        if self.starved:\n",
    "            print('This one has starved...')\n",
    "            return\n",
    "\n",
    "    def starve(self):\n",
    "        self.starved = True"
   ]
  },
  {
   "cell_type": "code",
   "execution_count": 18,
   "metadata": {},
   "outputs": [],
   "source": [
    "eater = Eater()"
   ]
  },
  {
   "cell_type": "code",
   "execution_count": 19,
   "metadata": {},
   "outputs": [
    {
     "data": {
      "text/plain": [
       "This eater has 118 energy, it's still kicking!"
      ]
     },
     "execution_count": 19,
     "metadata": {},
     "output_type": "execute_result"
    }
   ],
   "source": [
    "eater"
   ]
  },
  {
   "cell_type": "code",
   "execution_count": 21,
   "metadata": {},
   "outputs": [],
   "source": [
    "eater.metabolise(20)"
   ]
  },
  {
   "cell_type": "code",
   "execution_count": 22,
   "metadata": {},
   "outputs": [
    {
     "data": {
      "text/plain": [
       "This eater has 78 energy, it's still kicking!"
      ]
     },
     "execution_count": 22,
     "metadata": {},
     "output_type": "execute_result"
    }
   ],
   "source": [
    "eater"
   ]
  },
  {
   "cell_type": "code",
   "execution_count": 23,
   "metadata": {},
   "outputs": [
    {
     "name": "stdout",
     "output_type": "stream",
     "text": [
      "Eating! Mmmm, tasty.\n"
     ]
    }
   ],
   "source": [
    "eater.eat(50)"
   ]
  },
  {
   "cell_type": "code",
   "execution_count": 24,
   "metadata": {},
   "outputs": [
    {
     "data": {
      "text/plain": [
       "This eater has 128 energy, it's still kicking!"
      ]
     },
     "execution_count": 24,
     "metadata": {},
     "output_type": "execute_result"
    }
   ],
   "source": [
    "eater"
   ]
  },
  {
   "cell_type": "code",
   "execution_count": 25,
   "metadata": {},
   "outputs": [
    {
     "name": "stdout",
     "output_type": "stream",
     "text": [
      "This one has starved...\n"
     ]
    }
   ],
   "source": [
    "eater.metabolise(200)"
   ]
  },
  {
   "cell_type": "code",
   "execution_count": 26,
   "metadata": {},
   "outputs": [
    {
     "data": {
      "text/plain": [
       "This eater has -72 energy, it is well starved and useless."
      ]
     },
     "execution_count": 26,
     "metadata": {},
     "output_type": "execute_result"
    }
   ],
   "source": [
    "eater"
   ]
  },
  {
   "cell_type": "code",
   "execution_count": null,
   "metadata": {},
   "outputs": [],
   "source": []
  },
  {
   "cell_type": "code",
   "execution_count": 27,
   "metadata": {},
   "outputs": [
    {
     "name": "stdout",
     "output_type": "stream",
     "text": [
      "This eater has 82 energy, it's still kicking!\n",
      "That was useless...\n",
      "This one has starved...\n"
     ]
    }
   ],
   "source": [
    "eater = Eater()\n",
    "print(eater)\n",
    "eater.eat(-10)\n",
    "eater.metabolise(150)"
   ]
  },
  {
   "cell_type": "markdown",
   "metadata": {},
   "source": [
    "### An exercise\n",
    "\n",
    "Redefine the Mover class the better way and give it a better printed representation."
   ]
  },
  {
   "cell_type": "markdown",
   "metadata": {},
   "source": [
    "### Inheritance"
   ]
  },
  {
   "cell_type": "code",
   "execution_count": 28,
   "metadata": {},
   "outputs": [],
   "source": [
    "class Flatlander(Mover, Eater):\n",
    "    '''\n",
    "    A citizen of Flatland that can move and eat (and starve!).\n",
    "    '''\n",
    "    def __init__(self, name, metabolism=1, *args, **kwargs):\n",
    "        Mover.__init__(self, *args, **kwargs)\n",
    "        Eater.__init__(self, *args, **kwargs)\n",
    "        self.name = name\n",
    "        self.metabolism = metabolism\n",
    "    \n",
    "    def __repr__(self):\n",
    "        p = 'I am {} !\\n'.format(self.name.capitalize())\n",
    "        p += 'I have {0} energy, which I metabolise at a rate of {1} per unit moved.\\n'.format(\n",
    "            self.energy, self.metabolism\n",
    "        )\n",
    "        p += 'I am at Flatland coordinates x:{0} by y:{1}.'.format(self.x, self.y)\n",
    "        return p\n",
    "    \n",
    "    def set_energy(self, energy):\n",
    "        self.energy = energy\n",
    "    \n",
    "    def speak(self):\n",
    "        print('Hi! My name is {} :)'.format(self.name.capitalize()))\n",
    "    \n",
    "    def move(self, *args, **kwargs):\n",
    "        distance = Mover.move(self, *args, **kwargs)\n",
    "        cost = distance * self.metabolism\n",
    "        self.metabolise(cost)\n",
    "        print('{0} has moved {1} units and metabolised {2} energy points.'.format(\n",
    "            self.name.capitalize(), distance, cost)\n",
    "        )\n",
    "        "
   ]
  },
  {
   "cell_type": "code",
   "execution_count": 29,
   "metadata": {},
   "outputs": [
    {
     "name": "stdout",
     "output_type": "stream",
     "text": [
      "I am Hieronymus !\n",
      "I have 91 energy, which I metabolise at a rate of 1 per unit moved.\n",
      "I am at Flatland coordinates x:26 by y:43.\n"
     ]
    }
   ],
   "source": [
    "flatman = Flatlander('hieronymus')\n",
    "print(flatman)"
   ]
  },
  {
   "cell_type": "code",
   "execution_count": 30,
   "metadata": {},
   "outputs": [
    {
     "name": "stdout",
     "output_type": "stream",
     "text": [
      "Hi! My name is Hieronymus :)\n"
     ]
    }
   ],
   "source": [
    "flatman.speak()"
   ]
  },
  {
   "cell_type": "code",
   "execution_count": 31,
   "metadata": {},
   "outputs": [
    {
     "name": "stdout",
     "output_type": "stream",
     "text": [
      "Eating! Mmmm, tasty.\n",
      "I am Hieronymus !\n",
      "I have 111 energy, which I metabolise at a rate of 1 per unit moved.\n",
      "I am at Flatland coordinates x:26 by y:43.\n"
     ]
    }
   ],
   "source": [
    "flatman.eat(20)\n",
    "print(flatman)"
   ]
  },
  {
   "cell_type": "code",
   "execution_count": 32,
   "metadata": {},
   "outputs": [
    {
     "name": "stdout",
     "output_type": "stream",
     "text": [
      "Hieronymus has moved 14 units and metabolised 14 energy points.\n",
      "I am Hieronymus !\n",
      "I have 97 energy, which I metabolise at a rate of 1 per unit moved.\n",
      "I am at Flatland coordinates x:36 by y:53.\n"
     ]
    }
   ],
   "source": [
    "flatman.move(10, 10)\n",
    "print(flatman)"
   ]
  },
  {
   "cell_type": "markdown",
   "metadata": {},
   "source": [
    "### You can set attributes directly..."
   ]
  },
  {
   "cell_type": "code",
   "execution_count": 34,
   "metadata": {},
   "outputs": [
    {
     "name": "stdout",
     "output_type": "stream",
     "text": [
      "I am Hieronymus !\n",
      "I have 10 energy, which I metabolise at a rate of 1 per unit moved.\n",
      "I am at Flatland coordinates x:36 by y:53.\n"
     ]
    }
   ],
   "source": [
    "flatman.energy = 10\n",
    "print(flatman)"
   ]
  },
  {
   "cell_type": "markdown",
   "metadata": {},
   "source": [
    "### But I'd rather you added a method.\n",
    "\n",
    "Add a set_energy method to... well, you tell me."
   ]
  },
  {
   "cell_type": "code",
   "execution_count": 35,
   "metadata": {},
   "outputs": [
    {
     "name": "stdout",
     "output_type": "stream",
     "text": [
      "Eating! Mmmm, tasty.\n"
     ]
    }
   ],
   "source": [
    "flatman.eat(40)"
   ]
  },
  {
   "cell_type": "code",
   "execution_count": 36,
   "metadata": {},
   "outputs": [
    {
     "data": {
      "text/plain": [
       "I am Hieronymus !\n",
       "I have 50 energy, which I metabolise at a rate of 1 per unit moved.\n",
       "I am at Flatland coordinates x:36 by y:53."
      ]
     },
     "execution_count": 36,
     "metadata": {},
     "output_type": "execute_result"
    }
   ],
   "source": [
    "flatman"
   ]
  },
  {
   "cell_type": "code",
   "execution_count": null,
   "metadata": {},
   "outputs": [],
   "source": []
  }
 ],
 "metadata": {
  "kernelspec": {
   "display_name": "Python 3",
   "language": "python",
   "name": "python3"
  },
  "language_info": {
   "codemirror_mode": {
    "name": "ipython",
    "version": 3
   },
   "file_extension": ".py",
   "mimetype": "text/x-python",
   "name": "python",
   "nbconvert_exporter": "python",
   "pygments_lexer": "ipython3",
   "version": "3.6.4"
  }
 },
 "nbformat": 4,
 "nbformat_minor": 1
}
