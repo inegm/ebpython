{
 "metadata": {
  "name": "",
  "signature": "sha256:241660a0a4fcb9e55e2f3e1182c2d6d901746e2bb9ba69e3510e134ce75f00a2"
 },
 "nbformat": 3,
 "nbformat_minor": 0,
 "worksheets": [
  {
   "cells": [
    {
     "cell_type": "code",
     "collapsed": false,
     "input": [
      "import pandas as pd"
     ],
     "language": "python",
     "metadata": {},
     "outputs": []
    },
    {
     "cell_type": "markdown",
     "metadata": {},
     "source": [
      "#Built-in Types and Operations\n",
      "\n",
      "- Assignment\n",
      "- Truth and Boolean operations\n",
      "- Numeric\n",
      "- Coercion\n",
      "- Sequence\n",
      "- Set\n",
      "- Dictionary\n",
      "- Further reading\n",
      "\n",
      "For more, visit the standard library documentation on built-in types:\n",
      "https://docs.python.org/2/library/stdtypes.html"
     ]
    },
    {
     "cell_type": "markdown",
     "metadata": {},
     "source": [
      "##Assignment"
     ]
    },
    {
     "cell_type": "code",
     "collapsed": false,
     "input": [
      "a = 42\n",
      "print a"
     ],
     "language": "python",
     "metadata": {},
     "outputs": []
    },
    {
     "cell_type": "markdown",
     "metadata": {},
     "source": [
      "##Truth and Boolean operations\n",
      "\n",
      "###Types\n",
      "- None\n",
      "- True\n",
      "- False\n",
      "\n",
      "###Boolean Operations\n",
      "- not\n",
      "- and\n",
      "- or\n",
      "- if else\n",
      "\n",
      "###Comparison\n",
      "- ==, !=\n",
      "- \\>, >=, <, <=\n",
      "- is, is not"
     ]
    },
    {
     "cell_type": "code",
     "collapsed": false,
     "input": [
      "print not True"
     ],
     "language": "python",
     "metadata": {},
     "outputs": []
    },
    {
     "cell_type": "code",
     "collapsed": false,
     "input": [
      "print True and False"
     ],
     "language": "python",
     "metadata": {},
     "outputs": []
    },
    {
     "cell_type": "code",
     "collapsed": false,
     "input": [
      "print True or False"
     ],
     "language": "python",
     "metadata": {},
     "outputs": []
    },
    {
     "cell_type": "code",
     "collapsed": false,
     "input": [
      "print True if False else not True"
     ],
     "language": "python",
     "metadata": {},
     "outputs": []
    },
    {
     "cell_type": "code",
     "collapsed": false,
     "input": [
      "truth_table = [\n",
      "    [True, True, True and True, True or True, True if True else False],\n",
      "    [True, False, True and False, True or False, True if False else False],\n",
      "    [False, True, False and True, False or True, False if True else True],\n",
      "    [False, False, False and False, False or False, False if False else True]\n",
      "]\n",
      "truth_table_df = pd.DataFrame(truth_table)\n",
      "truth_table_df.columns = ['P', 'Q', 'and', 'or', 'if']\n",
      "truth_table_df.set_index(['P', 'Q'])"
     ],
     "language": "python",
     "metadata": {},
     "outputs": []
    },
    {
     "cell_type": "markdown",
     "metadata": {},
     "source": [
      "Several values will be interpreted as false for truth value testing:\n",
      "- False\n",
      "- None\n",
      "- zero\n",
      "- empty sequences and maps"
     ]
    },
    {
     "cell_type": "code",
     "collapsed": false,
     "input": [
      "truth_table = [\n",
      "    [True, True, True and True, True or True, True if True else None],\n",
      "    [True, 'None', True and None, True or None, True if None else None],\n",
      "    ['None', True, None and True, None or True, None if True else True],\n",
      "    ['None', 'None', None and None, None or None, None if None else True]\n",
      "]\n",
      "truth_table_df = pd.DataFrame(truth_table)\n",
      "truth_table_df.columns = ['P', 'Q', 'and', 'or', 'if']\n",
      "truth_table_df.set_index(['P', 'Q'])"
     ],
     "language": "python",
     "metadata": {},
     "outputs": []
    },
    {
     "cell_type": "markdown",
     "metadata": {},
     "source": [
      "However, **these values are not equivalent.** They have different semantic values."
     ]
    },
    {
     "cell_type": "code",
     "collapsed": false,
     "input": [
      "print None == False == 0 == []"
     ],
     "language": "python",
     "metadata": {},
     "outputs": []
    },
    {
     "cell_type": "code",
     "collapsed": false,
     "input": [
      "print 1 > 0"
     ],
     "language": "python",
     "metadata": {},
     "outputs": []
    },
    {
     "cell_type": "code",
     "collapsed": false,
     "input": [
      "print True > False"
     ],
     "language": "python",
     "metadata": {},
     "outputs": []
    },
    {
     "cell_type": "code",
     "collapsed": false,
     "input": [
      "print 1 == 1.0"
     ],
     "language": "python",
     "metadata": {},
     "outputs": []
    },
    {
     "cell_type": "code",
     "collapsed": false,
     "input": [
      "print 1 is 1.0"
     ],
     "language": "python",
     "metadata": {},
     "outputs": []
    },
    {
     "cell_type": "markdown",
     "metadata": {},
     "source": [
      "Explain:"
     ]
    },
    {
     "cell_type": "code",
     "collapsed": false,
     "input": [
      "print None is not True"
     ],
     "language": "python",
     "metadata": {},
     "outputs": []
    },
    {
     "cell_type": "markdown",
     "metadata": {},
     "source": [
      "##Numeric\n",
      "\n",
      "###Types\n",
      "- int\n",
      "- float"
     ]
    },
    {
     "cell_type": "markdown",
     "metadata": {},
     "source": [
      "###Type checking"
     ]
    },
    {
     "cell_type": "code",
     "collapsed": false,
     "input": [
      "print type(3.14)"
     ],
     "language": "python",
     "metadata": {},
     "outputs": []
    },
    {
     "cell_type": "code",
     "collapsed": false,
     "input": [
      "print type(3.14) == float"
     ],
     "language": "python",
     "metadata": {},
     "outputs": []
    },
    {
     "cell_type": "code",
     "collapsed": false,
     "input": [
      "print type(42)"
     ],
     "language": "python",
     "metadata": {},
     "outputs": []
    },
    {
     "cell_type": "code",
     "collapsed": false,
     "input": [
      "print type(42.0)"
     ],
     "language": "python",
     "metadata": {},
     "outputs": []
    },
    {
     "cell_type": "code",
     "collapsed": false,
     "input": [
      "print 42 == 42.0"
     ],
     "language": "python",
     "metadata": {},
     "outputs": []
    },
    {
     "cell_type": "markdown",
     "metadata": {},
     "source": [
      "###Integer division in Python 2.x"
     ]
    },
    {
     "cell_type": "code",
     "collapsed": false,
     "input": [
      "print 10 / 3"
     ],
     "language": "python",
     "metadata": {},
     "outputs": []
    },
    {
     "cell_type": "code",
     "collapsed": false,
     "input": [
      "print 10 / 3.0"
     ],
     "language": "python",
     "metadata": {},
     "outputs": []
    },
    {
     "cell_type": "code",
     "collapsed": false,
     "input": [
      "print 10 // 3.0"
     ],
     "language": "python",
     "metadata": {},
     "outputs": []
    },
    {
     "cell_type": "code",
     "collapsed": false,
     "input": [
      "from __future__ import division"
     ],
     "language": "python",
     "metadata": {},
     "outputs": []
    },
    {
     "cell_type": "code",
     "collapsed": false,
     "input": [
      "print 10 / 3"
     ],
     "language": "python",
     "metadata": {},
     "outputs": []
    },
    {
     "cell_type": "markdown",
     "metadata": {},
     "source": [
      "###Operator precedence\n",
      "- ** (unary)\n",
      "- \\+ (unary), \\- (unary)\n",
      "- *, /, %, //\n",
      "- +, -"
     ]
    },
    {
     "cell_type": "markdown",
     "metadata": {},
     "source": [
      "Evaluate:"
     ]
    },
    {
     "cell_type": "code",
     "collapsed": false,
     "input": [
      "print 2**2 + -2 * 4 / 2 + 2"
     ],
     "language": "python",
     "metadata": {},
     "outputs": []
    },
    {
     "cell_type": "markdown",
     "metadata": {},
     "source": [
      "Evaluate:"
     ]
    },
    {
     "cell_type": "code",
     "collapsed": false,
     "input": [
      "a = 2\n",
      "print a + 2"
     ],
     "language": "python",
     "metadata": {},
     "outputs": []
    },
    {
     "cell_type": "markdown",
     "metadata": {},
     "source": [
      "Explain:"
     ]
    },
    {
     "cell_type": "code",
     "collapsed": false,
     "input": [
      "print a"
     ],
     "language": "python",
     "metadata": {},
     "outputs": []
    },
    {
     "cell_type": "code",
     "collapsed": false,
     "input": [
      "a = a + 2\n",
      "print a"
     ],
     "language": "python",
     "metadata": {},
     "outputs": []
    },
    {
     "cell_type": "code",
     "collapsed": false,
     "input": [
      "a += 2\n",
      "print a"
     ],
     "language": "python",
     "metadata": {},
     "outputs": []
    },
    {
     "cell_type": "markdown",
     "metadata": {},
     "source": [
      "###Function style operations"
     ]
    },
    {
     "cell_type": "code",
     "collapsed": false,
     "input": [
      "print abs(-42)"
     ],
     "language": "python",
     "metadata": {},
     "outputs": []
    },
    {
     "cell_type": "code",
     "collapsed": false,
     "input": [
      "print divmod(10, 3)"
     ],
     "language": "python",
     "metadata": {},
     "outputs": []
    },
    {
     "cell_type": "code",
     "collapsed": false,
     "input": [
      "print pow(3, 2)"
     ],
     "language": "python",
     "metadata": {},
     "outputs": []
    },
    {
     "cell_type": "code",
     "collapsed": false,
     "input": [
      "print round(3.1415926535897932385, 2)"
     ],
     "language": "python",
     "metadata": {},
     "outputs": []
    },
    {
     "cell_type": "markdown",
     "metadata": {},
     "source": [
      "###The math module\n",
      "\n",
      "https://docs.python.org/2/library/math.html"
     ]
    },
    {
     "cell_type": "code",
     "collapsed": false,
     "input": [
      "import math\n",
      "\n",
      "print math.pi\n",
      "print math.degrees(0.785398163397)"
     ],
     "language": "python",
     "metadata": {},
     "outputs": []
    },
    {
     "cell_type": "markdown",
     "metadata": {},
     "source": [
      "There are more numerical and mathematical modules worth looking at on your own time:\n",
      "\n",
      "https://docs.python.org/2/library/numeric.html"
     ]
    },
    {
     "cell_type": "markdown",
     "metadata": {},
     "source": [
      "##Coercion"
     ]
    },
    {
     "cell_type": "code",
     "collapsed": false,
     "input": [
      "a = 42\n",
      "print type(a), a\n",
      "a = float(a)\n",
      "print type(a), a\n",
      "a = int(a)\n",
      "print type(a), a"
     ],
     "language": "python",
     "metadata": {},
     "outputs": []
    },
    {
     "cell_type": "code",
     "collapsed": false,
     "input": [
      "a = 42\n",
      "print type(a), a\n",
      "a = str(a)\n",
      "print type(a), a\n",
      "a = int(a)\n",
      "print type(a), a"
     ],
     "language": "python",
     "metadata": {},
     "outputs": []
    },
    {
     "cell_type": "markdown",
     "metadata": {},
     "source": [
      "##Sequence\n",
      "\n",
      "###Types\n",
      "- list\n",
      "- tuple\n",
      "- string"
     ]
    },
    {
     "cell_type": "code",
     "collapsed": false,
     "input": [
      "alist = []\n",
      "atuple = ()"
     ],
     "language": "python",
     "metadata": {},
     "outputs": []
    },
    {
     "cell_type": "code",
     "collapsed": false,
     "input": [
      "alist.append('zero')\n",
      "print alist"
     ],
     "language": "python",
     "metadata": {},
     "outputs": []
    },
    {
     "cell_type": "code",
     "collapsed": false,
     "input": [
      "alist += ['one', 2, 3.14, 'four', [1, 1, 'spam', 1, 1]]\n",
      "print alist"
     ],
     "language": "python",
     "metadata": {},
     "outputs": []
    },
    {
     "cell_type": "code",
     "collapsed": false,
     "input": [
      "print alist * 2"
     ],
     "language": "python",
     "metadata": {},
     "outputs": []
    },
    {
     "cell_type": "markdown",
     "metadata": {},
     "source": [
      "###Slicing and Indexing"
     ]
    },
    {
     "cell_type": "code",
     "collapsed": false,
     "input": [
      "print alist[0]"
     ],
     "language": "python",
     "metadata": {},
     "outputs": []
    },
    {
     "cell_type": "code",
     "collapsed": false,
     "input": [
      "print alist[5]"
     ],
     "language": "python",
     "metadata": {},
     "outputs": []
    },
    {
     "cell_type": "code",
     "collapsed": false,
     "input": [
      "print alist[-1]"
     ],
     "language": "python",
     "metadata": {},
     "outputs": []
    },
    {
     "cell_type": "markdown",
     "metadata": {},
     "source": [
      "Slicing can fetch from an index up to **but not including** an index:"
     ]
    },
    {
     "cell_type": "code",
     "collapsed": false,
     "input": [
      "print alist[1:4]"
     ],
     "language": "python",
     "metadata": {},
     "outputs": []
    },
    {
     "cell_type": "markdown",
     "metadata": {},
     "source": [
      "Slicing can also fetch in steps:"
     ]
    },
    {
     "cell_type": "code",
     "collapsed": false,
     "input": [
      "print alist[1:4:2]"
     ],
     "language": "python",
     "metadata": {},
     "outputs": []
    },
    {
     "cell_type": "markdown",
     "metadata": {},
     "source": [
      "Evaluate:"
     ]
    },
    {
     "cell_type": "code",
     "collapsed": false,
     "input": [
      "print alist[5][-3]"
     ],
     "language": "python",
     "metadata": {},
     "outputs": []
    },
    {
     "cell_type": "markdown",
     "metadata": {},
     "source": [
      "###Immutability of tuples"
     ]
    },
    {
     "cell_type": "code",
     "collapsed": false,
     "input": [
      "print atuple.append(0)"
     ],
     "language": "python",
     "metadata": {},
     "outputs": []
    },
    {
     "cell_type": "code",
     "collapsed": false,
     "input": [
      "atuple = ('first', 'second', 'third')\n",
      "print atuple[0]"
     ],
     "language": "python",
     "metadata": {},
     "outputs": []
    },
    {
     "cell_type": "markdown",
     "metadata": {},
     "source": [
      "NOTE: Single item tuples must be instantiated with a comma after the single item, as in the slicing result below."
     ]
    },
    {
     "cell_type": "code",
     "collapsed": false,
     "input": [
      "print atuple[0:1]"
     ],
     "language": "python",
     "metadata": {},
     "outputs": []
    },
    {
     "cell_type": "markdown",
     "metadata": {},
     "source": [
      "###Unpacking tuples"
     ]
    },
    {
     "cell_type": "code",
     "collapsed": false,
     "input": [
      "a, b, c = atuple\n",
      "print a\n",
      "print b\n",
      "print c"
     ],
     "language": "python",
     "metadata": {},
     "outputs": []
    },
    {
     "cell_type": "markdown",
     "metadata": {},
     "source": [
      "###Zipping tuples from lists"
     ]
    },
    {
     "cell_type": "code",
     "collapsed": false,
     "input": [
      "print zip(['one', 'two', 'three'], [1, 2, 3])"
     ],
     "language": "python",
     "metadata": {},
     "outputs": []
    },
    {
     "cell_type": "markdown",
     "metadata": {},
     "source": [
      "###Finding items in a sequence without an index"
     ]
    },
    {
     "cell_type": "code",
     "collapsed": false,
     "input": [
      "print 'first' in atuple"
     ],
     "language": "python",
     "metadata": {},
     "outputs": []
    },
    {
     "cell_type": "code",
     "collapsed": false,
     "input": [
      "print [1, 1, 'spam', 1, 1] not in alist"
     ],
     "language": "python",
     "metadata": {},
     "outputs": []
    },
    {
     "cell_type": "code",
     "collapsed": false,
     "input": [
      "print alist.index(3.14)"
     ],
     "language": "python",
     "metadata": {},
     "outputs": []
    },
    {
     "cell_type": "markdown",
     "metadata": {},
     "source": [
      "###Function style operations"
     ]
    },
    {
     "cell_type": "code",
     "collapsed": false,
     "input": [
      "print len(alist)"
     ],
     "language": "python",
     "metadata": {},
     "outputs": []
    },
    {
     "cell_type": "code",
     "collapsed": false,
     "input": [
      "print min(atuple)"
     ],
     "language": "python",
     "metadata": {},
     "outputs": []
    },
    {
     "cell_type": "markdown",
     "metadata": {},
     "source": [
      "Explain:"
     ]
    },
    {
     "cell_type": "code",
     "collapsed": false,
     "input": [
      "print max(alist)"
     ],
     "language": "python",
     "metadata": {},
     "outputs": []
    },
    {
     "cell_type": "markdown",
     "metadata": {},
     "source": [
      "###Sequence methods"
     ]
    },
    {
     "cell_type": "code",
     "collapsed": false,
     "input": [
      "print alist[5].count(1)"
     ],
     "language": "python",
     "metadata": {},
     "outputs": []
    },
    {
     "cell_type": "code",
     "collapsed": false,
     "input": [
      "alist.insert(2, 'and now for something completely different')\n",
      "print alist"
     ],
     "language": "python",
     "metadata": {},
     "outputs": []
    },
    {
     "cell_type": "code",
     "collapsed": false,
     "input": [
      "alist.pop(2)"
     ],
     "language": "python",
     "metadata": {},
     "outputs": []
    },
    {
     "cell_type": "code",
     "collapsed": false,
     "input": [
      "print alist"
     ],
     "language": "python",
     "metadata": {},
     "outputs": []
    },
    {
     "cell_type": "code",
     "collapsed": false,
     "input": [
      "alist.remove('one')"
     ],
     "language": "python",
     "metadata": {},
     "outputs": []
    },
    {
     "cell_type": "code",
     "collapsed": false,
     "input": [
      "print alist"
     ],
     "language": "python",
     "metadata": {},
     "outputs": []
    },
    {
     "cell_type": "code",
     "collapsed": false,
     "input": [
      "alist.reverse()\n",
      "print alist"
     ],
     "language": "python",
     "metadata": {},
     "outputs": []
    },
    {
     "cell_type": "code",
     "collapsed": false,
     "input": [
      "alist.sort()\n",
      "print alist"
     ],
     "language": "python",
     "metadata": {},
     "outputs": []
    },
    {
     "cell_type": "markdown",
     "metadata": {},
     "source": [
      "###String"
     ]
    },
    {
     "cell_type": "code",
     "collapsed": false,
     "input": [
      "astring = 'I will not have my fwends widiculed by the common soldiewy'"
     ],
     "language": "python",
     "metadata": {},
     "outputs": []
    },
    {
     "cell_type": "code",
     "collapsed": false,
     "input": [
      "astring += '!'\n",
      "print astring"
     ],
     "language": "python",
     "metadata": {},
     "outputs": []
    },
    {
     "cell_type": "code",
     "collapsed": false,
     "input": [
      "print astring[26:35]"
     ],
     "language": "python",
     "metadata": {},
     "outputs": []
    },
    {
     "cell_type": "code",
     "collapsed": false,
     "input": [
      "print astring.count('w')"
     ],
     "language": "python",
     "metadata": {},
     "outputs": []
    },
    {
     "cell_type": "code",
     "collapsed": false,
     "input": [
      "print astring.count('r')"
     ],
     "language": "python",
     "metadata": {},
     "outputs": []
    },
    {
     "cell_type": "code",
     "collapsed": false,
     "input": [
      "astring = astring.replace('w', 'r')\n",
      "print astring"
     ],
     "language": "python",
     "metadata": {},
     "outputs": []
    },
    {
     "cell_type": "code",
     "collapsed": false,
     "input": [
      "print 'rill' in astring"
     ],
     "language": "python",
     "metadata": {},
     "outputs": []
    },
    {
     "cell_type": "code",
     "collapsed": false,
     "input": [
      "astring = astring.replace('rill', 'will')\n",
      "print astring"
     ],
     "language": "python",
     "metadata": {},
     "outputs": []
    },
    {
     "cell_type": "code",
     "collapsed": false,
     "input": [
      "print astring.upper()"
     ],
     "language": "python",
     "metadata": {},
     "outputs": []
    },
    {
     "cell_type": "markdown",
     "metadata": {},
     "source": [
      "There will be more to say about strings in another part of this course (Printing and Formatting). For a longer list of string methods: https://docs.python.org/2/library/stdtypes.html#string-methods"
     ]
    },
    {
     "cell_type": "markdown",
     "metadata": {},
     "source": [
      "##Set"
     ]
    },
    {
     "cell_type": "markdown",
     "metadata": {},
     "source": [
      "###From a list"
     ]
    },
    {
     "cell_type": "code",
     "collapsed": false,
     "input": [
      "suites = ['hearts', 'spades', 'spades', 'diamonds', 'clubs', 'diamonds']\n",
      "aset = set(suites)\n",
      "print aset"
     ],
     "language": "python",
     "metadata": {},
     "outputs": []
    },
    {
     "cell_type": "markdown",
     "metadata": {},
     "source": [
      "###Instantiation"
     ]
    },
    {
     "cell_type": "code",
     "collapsed": false,
     "input": [
      "mammals = {'human', 'ape', 'mongoose'}\n",
      "fish = {'salmon', 'tuna'}\n",
      "inanimate = {'computer'}\n",
      "\n",
      "things_visible = {'rose', 'human', 'tuna', 'rock', 'mongoose', 'water', 'apple'}"
     ],
     "language": "python",
     "metadata": {},
     "outputs": []
    },
    {
     "cell_type": "markdown",
     "metadata": {},
     "source": [
      "###Set methods"
     ]
    },
    {
     "cell_type": "code",
     "collapsed": false,
     "input": [
      "mammals.intersection(things_visible)"
     ],
     "language": "python",
     "metadata": {},
     "outputs": []
    },
    {
     "cell_type": "code",
     "collapsed": false,
     "input": [
      "things_known = mammals.union(fish.union(inanimate))\n",
      "print things_known"
     ],
     "language": "python",
     "metadata": {},
     "outputs": []
    },
    {
     "cell_type": "code",
     "collapsed": false,
     "input": [
      "things_known.issuperset(things_visible)"
     ],
     "language": "python",
     "metadata": {},
     "outputs": []
    },
    {
     "cell_type": "code",
     "collapsed": false,
     "input": [
      "things_unknown = things_visible.difference(things_known)\n",
      "things_recognized = things_known.intersection(things_visible)\n",
      "print things_unknown\n",
      "print things_recognized"
     ],
     "language": "python",
     "metadata": {},
     "outputs": []
    },
    {
     "cell_type": "markdown",
     "metadata": {},
     "source": [
      "For more on sets: https://docs.python.org/2/library/stdtypes.html#set-types-set-frozenset"
     ]
    },
    {
     "cell_type": "markdown",
     "metadata": {},
     "source": [
      "##Dictionary"
     ]
    },
    {
     "cell_type": "code",
     "collapsed": false,
     "input": [
      "adict = {'one': 1, 'two': 2}"
     ],
     "language": "python",
     "metadata": {},
     "outputs": []
    },
    {
     "cell_type": "code",
     "collapsed": false,
     "input": [
      "adict.update({'three': 3})\n",
      "print adict"
     ],
     "language": "python",
     "metadata": {},
     "outputs": []
    },
    {
     "cell_type": "code",
     "collapsed": false,
     "input": [
      "bdict = dict(zip(['one', 'two', 'three'], [1, 2, 3]))\n",
      "print bdict"
     ],
     "language": "python",
     "metadata": {},
     "outputs": []
    },
    {
     "cell_type": "code",
     "collapsed": false,
     "input": [
      "print adict == bdict"
     ],
     "language": "python",
     "metadata": {},
     "outputs": []
    },
    {
     "cell_type": "markdown",
     "metadata": {},
     "source": [
      "###Indexing dictionaries"
     ]
    },
    {
     "cell_type": "code",
     "collapsed": false,
     "input": [
      "print adict['two']"
     ],
     "language": "python",
     "metadata": {},
     "outputs": []
    },
    {
     "cell_type": "code",
     "collapsed": false,
     "input": [
      "print adict.get('four', 'Blessed are the greek?!')"
     ],
     "language": "python",
     "metadata": {},
     "outputs": []
    },
    {
     "cell_type": "markdown",
     "metadata": {},
     "source": [
      "###Dictionary methods"
     ]
    },
    {
     "cell_type": "code",
     "collapsed": false,
     "input": [
      "print adict.items()"
     ],
     "language": "python",
     "metadata": {},
     "outputs": []
    },
    {
     "cell_type": "code",
     "collapsed": false,
     "input": [
      "print adict.keys()"
     ],
     "language": "python",
     "metadata": {},
     "outputs": []
    },
    {
     "cell_type": "code",
     "collapsed": false,
     "input": [
      "print adict.values()"
     ],
     "language": "python",
     "metadata": {},
     "outputs": []
    },
    {
     "cell_type": "code",
     "collapsed": false,
     "input": [
      "print adict.pop('two')"
     ],
     "language": "python",
     "metadata": {},
     "outputs": []
    },
    {
     "cell_type": "code",
     "collapsed": false,
     "input": [
      "print adict"
     ],
     "language": "python",
     "metadata": {},
     "outputs": []
    },
    {
     "cell_type": "code",
     "collapsed": false,
     "input": [
      "print adict.popitem()"
     ],
     "language": "python",
     "metadata": {},
     "outputs": []
    },
    {
     "cell_type": "code",
     "collapsed": false,
     "input": [
      "print adict"
     ],
     "language": "python",
     "metadata": {},
     "outputs": []
    },
    {
     "cell_type": "markdown",
     "metadata": {},
     "source": [
      "For more on dictionaries: https://docs.python.org/2/library/stdtypes.html#mapping-types-dict"
     ]
    },
    {
     "cell_type": "markdown",
     "metadata": {},
     "source": [
      "##Further reading\n",
      "These topics are not covered in the course, but are worth discovering on your own time.\n",
      "\n",
      "- Collections, high performance container datatypes https://docs.python.org/2/library/collections.html\n",
      "- Data persistance https://docs.python.org/2/library/persistence.html"
     ]
    }
   ],
   "metadata": {}
  }
 ]
}