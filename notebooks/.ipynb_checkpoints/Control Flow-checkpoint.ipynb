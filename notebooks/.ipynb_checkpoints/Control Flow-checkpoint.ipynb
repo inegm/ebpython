{
 "metadata": {
  "name": "",
  "signature": "sha256:f643b34bf7ebacbaa8fc5a5478d4fafccd336ee07f1c9eae1bc908eeb466150b"
 },
 "nbformat": 3,
 "nbformat_minor": 0,
 "worksheets": [
  {
   "cells": [
    {
     "cell_type": "markdown",
     "metadata": {},
     "source": [
      "# Control Flow\n",
      "- range and xrange\n",
      "- Generators and iteration\n",
      "- List comprehensions\n",
      "- Dictionary comprehensions"
     ]
    },
    {
     "cell_type": "code",
     "collapsed": false,
     "input": [],
     "language": "python",
     "metadata": {},
     "outputs": []
    }
   ],
   "metadata": {}
  }
 ]
}