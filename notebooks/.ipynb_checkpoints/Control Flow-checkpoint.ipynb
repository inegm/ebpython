{
 "metadata": {
  "name": "",
  "signature": "sha256:ac4d9f65e12d30962b63126928039f50956c9ddbd4d8fb9e3875551bb9976975"
 },
 "nbformat": 3,
 "nbformat_minor": 0,
 "worksheets": [
  {
   "cells": [
    {
     "cell_type": "markdown",
     "metadata": {},
     "source": [
      "# Control Flow\n",
      "- Generators and iteration\n",
      "- range and xrange\n",
      "- try / except\n",
      "- if / else\n",
      "- for\n",
      "- List comprehensions\n",
      "- while\n",
      "- break\n",
      "- continue\n",
      "- itertools"
     ]
    },
    {
     "cell_type": "markdown",
     "metadata": {},
     "source": [
      "## range and xrange\n",
      "- range returns a list\n",
      "- xrange returns a generator"
     ]
    },
    {
     "cell_type": "code",
     "collapsed": false,
     "input": [
      "range(0, 10)"
     ],
     "language": "python",
     "metadata": {},
     "outputs": []
    },
    {
     "cell_type": "code",
     "collapsed": false,
     "input": [
      "range(0, 10, 2)"
     ],
     "language": "python",
     "metadata": {},
     "outputs": []
    },
    {
     "cell_type": "code",
     "collapsed": false,
     "input": [
      "xrange(0, 10)"
     ],
     "language": "python",
     "metadata": {},
     "outputs": []
    },
    {
     "cell_type": "code",
     "collapsed": false,
     "input": [
      "xrange(0, 10, 2)"
     ],
     "language": "python",
     "metadata": {},
     "outputs": []
    },
    {
     "cell_type": "code",
     "collapsed": false,
     "input": [
      "range(0, 10, 2) == list(xrange(0, 10, 2))"
     ],
     "language": "python",
     "metadata": {},
     "outputs": []
    },
    {
     "cell_type": "markdown",
     "metadata": {},
     "source": [
      "## try / except\n",
      "From *The Zen of Python*:\n",
      "\n",
      "> Explicit is better than implicit.\n",
      "\n",
      "**Catch exceptions explicitly.** Otherwise you'll be handling exceptions that shouldn't pass silently:\n",
      "\n",
      "> Errors should never pass silently.\n",
      "\n",
      "> Unless explicitly silenced.\n",
      "\n",
      "And this could leave hard to track bugs sleeping across your code."
     ]
    },
    {
     "cell_type": "code",
     "collapsed": false,
     "input": [
      "try:\n",
      "    a = 42.0 / 0.0\n",
      "except ZeroDivisionError, e:\n",
      "    print e\n",
      "else:\n",
      "    print a"
     ],
     "language": "python",
     "metadata": {},
     "outputs": []
    },
    {
     "cell_type": "code",
     "collapsed": false,
     "input": [
      "try:\n",
      "    a = 42.0 / 2\n",
      "except ZeroDivisionError, e:\n",
      "    print e\n",
      "else:\n",
      "    print a"
     ],
     "language": "python",
     "metadata": {},
     "outputs": []
    },
    {
     "cell_type": "code",
     "collapsed": false,
     "input": [
      "try:\n",
      "    a = 42.0 / b\n",
      "except ZeroDivisionError, e:\n",
      "    print e\n",
      "else:\n",
      "    print a"
     ],
     "language": "python",
     "metadata": {},
     "outputs": []
    },
    {
     "cell_type": "markdown",
     "metadata": {},
     "source": [
      "##if / else"
     ]
    },
    {
     "cell_type": "code",
     "collapsed": false,
     "input": [
      "p = False\n",
      "q = True"
     ],
     "language": "python",
     "metadata": {},
     "outputs": []
    },
    {
     "cell_type": "code",
     "collapsed": false,
     "input": [
      "if p:\n",
      "    print 'You have the answer, now seek the question.'\n",
      "else:\n",
      "    print 'Of nothing you can be sure.'"
     ],
     "language": "python",
     "metadata": {},
     "outputs": []
    },
    {
     "cell_type": "code",
     "collapsed": false,
     "input": [
      "if p:\n",
      "    print 'You have the answer, now seek the question.'\n",
      "elif q:\n",
      "    print 'There is a middle way.'\n",
      "else:\n",
      "    print 'Of nothing you can be sure.'"
     ],
     "language": "python",
     "metadata": {},
     "outputs": []
    },
    {
     "cell_type": "markdown",
     "metadata": {},
     "source": [
      "## for"
     ]
    },
    {
     "cell_type": "code",
     "collapsed": false,
     "input": [
      "ns = list()\n",
      "for n in range(0, 100, 5):\n",
      "    ns.append(n)\n",
      "print ns"
     ],
     "language": "python",
     "metadata": {},
     "outputs": []
    },
    {
     "cell_type": "code",
     "collapsed": false,
     "input": [
      "ns = list()\n",
      "for n in range(0, 100, 5):\n",
      "    m = n * 2 / 10\n",
      "    ns.append(m)\n",
      "print ns"
     ],
     "language": "python",
     "metadata": {},
     "outputs": []
    },
    {
     "cell_type": "markdown",
     "metadata": {},
     "source": [
      "##List comprehensions"
     ]
    },
    {
     "cell_type": "code",
     "collapsed": false,
     "input": [
      "a = [n for n in range(0, 10)]\n",
      "print type(a)\n",
      "print a"
     ],
     "language": "python",
     "metadata": {},
     "outputs": []
    },
    {
     "cell_type": "code",
     "collapsed": false,
     "input": [
      "print [n * 2 / 10 for n in range(0, 100, 5)]"
     ],
     "language": "python",
     "metadata": {},
     "outputs": []
    },
    {
     "cell_type": "code",
     "collapsed": false,
     "input": [
      "print [n * 2 / 10 for n in range(0, 100, 5) if n % 10]"
     ],
     "language": "python",
     "metadata": {},
     "outputs": []
    },
    {
     "cell_type": "markdown",
     "metadata": {},
     "source": [
      "Print even numbers:"
     ]
    },
    {
     "cell_type": "code",
     "collapsed": false,
     "input": [],
     "language": "python",
     "metadata": {},
     "outputs": []
    },
    {
     "cell_type": "markdown",
     "metadata": {},
     "source": [
      "##While"
     ]
    },
    {
     "cell_type": "code",
     "collapsed": false,
     "input": [],
     "language": "python",
     "metadata": {},
     "outputs": []
    },
    {
     "cell_type": "markdown",
     "metadata": {},
     "source": [
      "## Sieve of Eratosthenes\n",
      "Print a list of primes up to 200 using the Sieve of Eratosthenes algorithm.\n",
      "\n",
      "https://en.wikipedia.org/wiki/Sieve_of_Eratosthenes"
     ]
    },
    {
     "cell_type": "code",
     "collapsed": false,
     "input": [],
     "language": "python",
     "metadata": {},
     "outputs": []
    }
   ],
   "metadata": {}
  }
 ]
}