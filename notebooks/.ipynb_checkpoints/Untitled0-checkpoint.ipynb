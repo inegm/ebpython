{
 "metadata": {
  "name": "",
  "signature": "sha256:5acc0b53118d5f7ec9265576276ca63c4525a3b52df4942811f083c10fb8e4e1"
 },
 "nbformat": 3,
 "nbformat_minor": 0,
 "worksheets": []
}